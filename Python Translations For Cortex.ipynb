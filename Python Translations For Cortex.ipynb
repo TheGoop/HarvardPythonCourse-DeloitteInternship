{
 "cells": [
  {
   "cell_type": "markdown",
   "metadata": {},
   "source": [
    "Python Translations For Deloitte Cortex"
   ]
  },
  {
   "cell_type": "code",
   "execution_count": null,
   "metadata": {
    "collapsed": true
   },
   "outputs": [],
   "source": [
    "import string"
   ]
  },
  {
   "cell_type": "code",
   "execution_count": null,
   "metadata": {
    "collapsed": true
   },
   "outputs": [],
   "source": [
    "exampleColumn = ['hEllo Me', 'BYE me ', '123 ', ' XY Z23', '12 aBC ', ' cBADbg ', ' AsDjfD ', '239487 ', ' 9274yhf', '7f3 ']"
   ]
  },
  {
   "cell_type": "markdown",
   "metadata": {},
   "source": [
    "Sort ascending"
   ]
  },
  {
   "cell_type": "code",
   "execution_count": null,
   "metadata": {
    "collapsed": true
   },
   "outputs": [],
   "source": [
    "def sortAscending(exampleColumn):\n",
    "    #Variable 'exampleColumn' is the original column\n",
    "    exampleColumn.sort() #sorts column into alphabetical order\n",
    "    ascendedList = exampleColumn #sets the ascended list equal to the alphabetized column for readiblilty\n",
    "    return (ascendedList)"
   ]
  },
  {
   "cell_type": "markdown",
   "metadata": {},
   "source": [
    "Sort descending"
   ]
  },
  {
   "cell_type": "code",
   "execution_count": null,
   "metadata": {
    "collapsed": true
   },
   "outputs": [],
   "source": [
    "def sortDescending(exampleColumn):\n",
    "    #Variable 'exampleColumn' is the original column\n",
    "    exampleColumn.sort() #sorts column into alphabetical order\n",
    "    exampleColumn.reverse() #reverses column to make its order the opposite way\n",
    "    descendedList = exampleColumn #sets the descended list equal to the reverse alphabetized column for readibility\n",
    "    return (descendedList)"
   ]
  },
  {
   "cell_type": "markdown",
   "metadata": {},
   "source": [
    "Extract length"
   ]
  },
  {
   "cell_type": "code",
   "execution_count": null,
   "metadata": {
    "collapsed": true
   },
   "outputs": [],
   "source": [
    "def extractLength(exampleColumn):\n",
    "    #Variable 'exampleColumn' is the original column\n",
    "    lengthList = [] #where all of the lengths will be stored\n",
    "    for i in exampleColumn: #iterates through every value in the column\n",
    "        lengthList.append(len(str(i))) #converts what ever value is in the column into string then gets the length and appends that to the list of lengths\n",
    "    return (lengthList)"
   ]
  },
  {
   "cell_type": "markdown",
   "metadata": {},
   "source": [
    "Extract range"
   ]
  },
  {
   "cell_type": "code",
   "execution_count": null,
   "metadata": {
    "collapsed": true
   },
   "outputs": [],
   "source": [
    "def extractRange(exampleColumn, index, amount):\n",
    "    #Variable 'exampleColumn' is the original column\n",
    "    #Variable 'amount' is how ever many characters should be returned in each row of the new column\n",
    "    #Variable 'index' is the place at which the program should start returning the characters from\n",
    "    rangeList = [] #where all of the ranges of each row in the column will be stored\n",
    "    amount = int(amount) #converts to int so that it can be used later\n",
    "    index = int(index) #converts to int so that it can be used later\n",
    "    index -= 1 #python's first index is 0, however we start at 1. This basically translates where we start into where python should start\n",
    "    for i in exampleColumn: #iterates through every value in the column\n",
    "        end = amount + index #calculates where it should stop returning characters\n",
    "        rangeList.append(i[index:end]) #adds range to the rangelist\n",
    "    return (rangeList)"
   ]
  },
  {
   "cell_type": "markdown",
   "metadata": {},
   "source": [
    "Split column by delimiter"
   ]
  },
  {
   "cell_type": "code",
   "execution_count": null,
   "metadata": {
    "collapsed": true
   },
   "outputs": [],
   "source": [
    "def splitBydelimiter(exampleColumn, seperator):\n",
    "    #Variable 'exampleColumn' is the original column\n",
    "    #Variable 'seperator is the delimiter'\n",
    "    splitList = [] #Where every fragment will be stored\n",
    "    for i in exampleColumn: #iterates through every value in the column\n",
    "        fragment = i.split(seperator) #splits value at the delimiter\n",
    "        splitList.append(fragment) #appends split value into list\n",
    "    return (splitList)"
   ]
  },
  {
   "cell_type": "markdown",
   "metadata": {},
   "source": [
    "Split column by number of character"
   ]
  },
  {
   "cell_type": "code",
   "execution_count": null,
   "metadata": {
    "collapsed": true
   },
   "outputs": [],
   "source": [
    "def splitBynumberOfcharacters(exampleColumn, length):\n",
    "    #Variable 'exampleColumn' is the original column\n",
    "    #Variable 'length' is how long the fragments should be\n",
    "    splittedList = []     #where every split thing will be stored\n",
    "    fragments = []        #where the fragments of each value will be stored before moving to the splittedList\n",
    "    length = int(length)  #converts length to int to be used later\n",
    "    for i in exampleColumn: #iterates through every value in the column\n",
    "        iterator= 0       #amount of times that the word will be split\n",
    "        wordLength = len(i)  #gets the length of the world\n",
    "        amount = wordLength/length   #part of figuring out what the variable 'iterator' should be\n",
    "        if amount % 1 != 0:  #checks to see if it is a decimal\n",
    "            iterator = (int(amount)) + 1 #because it is a decimal, you can tell that the program will have a fragment \n",
    "            #at the very end that is smaller than the desired length. Adding 1 to the times the word will be split will insure that the fragment is still put in the list\n",
    "        else:  #if the amount is not a decimal\n",
    "            iterator = int(amount) #since it isn't a decimal, you can tell that there isn't an extra, smaller fragment at the end therefore an extra time to split the value is not needed in the\n",
    "        for j in range(iterator): #goes through the word j an iterator amount of times\n",
    "            fragment = i[j*length:(j+1)*length] #fragment of word\n",
    "            if not fragment.isspace(): #checks to make sure the fragment is not just blank space\n",
    "                fragments.append(i[j*length:(j+1)*length]) #each time, it takes a fragment of the word and puts in the fragments list\n",
    "    splittedList.append(fragments)  #once all of the fragments for the value has been collected, it is added to the actual splitted list\n",
    "    return (splittedList)"
   ]
  },
  {
   "cell_type": "markdown",
   "metadata": {},
   "source": [
    "Lowercase"
   ]
  },
  {
   "cell_type": "code",
   "execution_count": null,
   "metadata": {
    "collapsed": true
   },
   "outputs": [],
   "source": [
    "def allLowercase(exampleColumn):\n",
    "    #Variable 'exampleColumn' is the original column\n",
    "    lowerCaselist = [] #Where all of the values will go once lowercased\n",
    "    for i in exampleColumn:\n",
    "        lowerCaselist.append(i.lower())\n",
    "    return (lowerCaselist)"
   ]
  },
  {
   "cell_type": "markdown",
   "metadata": {},
   "source": [
    "Uppercase"
   ]
  },
  {
   "cell_type": "code",
   "execution_count": null,
   "metadata": {
    "collapsed": true
   },
   "outputs": [],
   "source": [
    "def allUppercase(exampleColumn):\n",
    "    #Variable 'exampleColumn' is the original column\n",
    "    upperCaselist = [] #Where all of the values will go once lowercased\n",
    "    for i in exampleColumn: #Iterates through every value in the column\n",
    "        upperCaselist.append(i.upper()) #adds the uppercased value to the upper case list\n",
    "    return (upperCaselist)"
   ]
  },
  {
   "cell_type": "markdown",
   "metadata": {},
   "source": [
    "Capitalize each word"
   ]
  },
  {
   "cell_type": "code",
   "execution_count": null,
   "metadata": {
    "collapsed": true
   },
   "outputs": [],
   "source": [
    "def capitalizeEachword(exampleColumn):\n",
    "    #Variable 'exampleColumn' is the original column\n",
    "    capitalizedlist = [] #Where all of the values will go once lowercased\n",
    "    for i in exampleColumn: #Iterates through every value in the column\n",
    "        capitalizedlist.append(i.title()) #adds the lowercased value to the upper case list\n",
    "    return (capitalizedlist)"
   ]
  },
  {
   "cell_type": "markdown",
   "metadata": {},
   "source": [
    "Trim"
   ]
  },
  {
   "cell_type": "code",
   "execution_count": null,
   "metadata": {
    "collapsed": true
   },
   "outputs": [],
   "source": [
    "def trim(exampleColumn):\n",
    "    #Variable 'exampleColumn' is the original column\n",
    "    trimmedList = []\n",
    "    for i in exampleColumn:\n",
    "        trimmedList.append(i.strip())\n",
    "    return (trimmedList)"
   ]
  },
  {
   "cell_type": "markdown",
   "metadata": {},
   "source": [
    "Add prefix"
   ]
  },
  {
   "cell_type": "code",
   "execution_count": null,
   "metadata": {
    "collapsed": true
   },
   "outputs": [],
   "source": [
    "def addPrefix(exampleColumn, prefix):\n",
    "    #Variable 'exampleColumn' is the original column\n",
    "    #Varibale 'prefix' is the prefix: the word that will precede every value\n",
    "    prefixedList = []\n",
    "    for i in exampleColumn:\n",
    "        value = prefix + str(i)\n",
    "        prefixedList.append(value)\n",
    "    return (prefixedList)"
   ]
  },
  {
   "cell_type": "markdown",
   "metadata": {},
   "source": [
    "Add Suffix"
   ]
  },
  {
   "cell_type": "code",
   "execution_count": null,
   "metadata": {
    "collapsed": true
   },
   "outputs": [],
   "source": [
    "def addSuffix(exampleColumn, suffix):\n",
    "    #Variable 'exampleColumn is the original column'\n",
    "    suffixedList = []\n",
    "    for i in exampleColumn:\n",
    "        value = str(i) + suffix\n",
    "        suffixedList.append(value)\n",
    "    return (suffixedList)"
   ]
  },
  {
   "cell_type": "markdown",
   "metadata": {},
   "source": [
    "Tests"
   ]
  },
  {
   "cell_type": "code",
   "execution_count": null,
   "metadata": {
    "collapsed": true
   },
   "outputs": [],
   "source": [
    "sortAscending(exampleColumn)"
   ]
  },
  {
   "cell_type": "code",
   "execution_count": null,
   "metadata": {
    "collapsed": true
   },
   "outputs": [],
   "source": [
    "sortDescending(exampleColumn)"
   ]
  },
  {
   "cell_type": "code",
   "execution_count": null,
   "metadata": {
    "collapsed": true
   },
   "outputs": [],
   "source": [
    "extractLength(exampleColumn)"
   ]
  },
  {
   "cell_type": "code",
   "execution_count": null,
   "metadata": {
    "collapsed": true
   },
   "outputs": [],
   "source": [
    "extractRange(exampleColumn, 1, 3)"
   ]
  },
  {
   "cell_type": "code",
   "execution_count": null,
   "metadata": {
    "collapsed": true
   },
   "outputs": [],
   "source": [
    "splitBydelimiter(exampleColumn, 'E')"
   ]
  },
  {
   "cell_type": "code",
   "execution_count": null,
   "metadata": {
    "collapsed": true,
    "scrolled": false
   },
   "outputs": [],
   "source": [
    "splitBynumberOfcharacters(exampleColumn, 3)"
   ]
  },
  {
   "cell_type": "code",
   "execution_count": null,
   "metadata": {
    "collapsed": true
   },
   "outputs": [],
   "source": [
    "allLowercase(exampleColumn)"
   ]
  },
  {
   "cell_type": "code",
   "execution_count": null,
   "metadata": {
    "collapsed": true
   },
   "outputs": [],
   "source": [
    "allUppercase(exampleColumn)"
   ]
  },
  {
   "cell_type": "code",
   "execution_count": null,
   "metadata": {
    "collapsed": true
   },
   "outputs": [],
   "source": [
    "capitalizeEachword(exampleColumn)"
   ]
  },
  {
   "cell_type": "code",
   "execution_count": null,
   "metadata": {
    "collapsed": true
   },
   "outputs": [],
   "source": [
    "trim(exampleColumn)"
   ]
  },
  {
   "cell_type": "code",
   "execution_count": null,
   "metadata": {
    "collapsed": true
   },
   "outputs": [],
   "source": [
    "addPrefix(exampleColumn, 'pro')"
   ]
  },
  {
   "cell_type": "code",
   "execution_count": null,
   "metadata": {
    "collapsed": true
   },
   "outputs": [],
   "source": [
    "addSuffix(exampleColumn, 'cede')"
   ]
  },
  {
   "cell_type": "code",
   "execution_count": null,
   "metadata": {
    "collapsed": true
   },
   "outputs": [],
   "source": []
  },
  {
   "cell_type": "code",
   "execution_count": null,
   "metadata": {
    "collapsed": true
   },
   "outputs": [],
   "source": []
  }
 ],
 "metadata": {
  "kernelspec": {
   "display_name": "Python 3",
   "language": "python",
   "name": "python3"
  },
  "language_info": {
   "codemirror_mode": {
    "name": "ipython",
    "version": 3
   },
   "file_extension": ".py",
   "mimetype": "text/x-python",
   "name": "python",
   "nbconvert_exporter": "python",
   "pygments_lexer": "ipython3",
   "version": "3.6.1"
  }
 },
 "nbformat": 4,
 "nbformat_minor": 2
}
